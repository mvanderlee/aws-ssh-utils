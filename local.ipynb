{
 "cells": [
  {
   "cell_type": "code",
   "execution_count": 2,
   "metadata": {},
   "outputs": [],
   "source": [
    "import boto3\n",
    "\n",
    "\n",
    "ec2 = boto3.resource('ec2')\n",
    "running_instances = ec2.instances.filter(\n",
    "  Filters=[{'Name': 'instance-state-name', 'Values': ['running']}],\n",
    ")\n"
   ]
  },
  {
   "cell_type": "code",
   "execution_count": 5,
   "metadata": {},
   "outputs": [],
   "source": [
    "instance = list(running_instances)[0]"
   ]
  },
  {
   "cell_type": "code",
   "execution_count": 6,
   "metadata": {},
   "outputs": [
    {
     "data": {
      "text/plain": [
       "[{'Key': 'Name', 'Value': 'TL-INT-PROD-DC01'},\n",
       " {'Key': 'Description', 'Value': 'Domain Controller'},\n",
       " {'Key': 'Environment', 'Value': 'prod'},\n",
       " {'Key': 'Client', 'Value': 'TECHLOCK'}]"
      ]
     },
     "execution_count": 6,
     "metadata": {},
     "output_type": "execute_result"
    }
   ],
   "source": [
    "instance.tags"
   ]
  },
  {
   "cell_type": "code",
   "execution_count": 9,
   "metadata": {},
   "outputs": [
    {
     "data": {
      "text/plain": [
       "False"
      ]
     },
     "execution_count": 9,
     "metadata": {},
     "output_type": "execute_result"
    }
   ],
   "source": [
    "tags = {\n",
    "  tag['Key'].lower(): tag['Value']\n",
    "  for tag in instance.tags\n",
    "}\n",
    "\n",
    "'opkssh_provider' in tags"
   ]
  },
  {
   "cell_type": "code",
   "execution_count": 10,
   "metadata": {},
   "outputs": [
    {
     "data": {
      "text/plain": [
       "{'name': 'TL-INT-PROD-DC01',\n",
       " 'description': 'Domain Controller',\n",
       " 'environment': 'prod',\n",
       " 'client': 'TECHLOCK'}"
      ]
     },
     "execution_count": 10,
     "metadata": {},
     "output_type": "execute_result"
    }
   ],
   "source": [
    "tags"
   ]
  },
  {
   "cell_type": "code",
   "execution_count": 1,
   "metadata": {},
   "outputs": [],
   "source": [
    "import boto3\n",
    "emr = boto3.client(\"emr\")\n",
    "cluster = emr.describe_cluster(ClusterId='j-UI9M03CCJCNZ')"
   ]
  },
  {
   "cell_type": "code",
   "execution_count": 3,
   "metadata": {},
   "outputs": [
    {
     "data": {
      "text/plain": [
       "[{'Key': 'Platform', 'Value': 'msc'},\n",
       " {'Key': 'Author', 'Value': 'Michiel Vanderlee'},\n",
       " {'Key': 'Environment', 'Value': 'prod'},\n",
       " {'Key': 'AutoRestart', 'Value': 'On'},\n",
       " {'Key': 'Docker_Monitoring', 'Value': 'On'},\n",
       " {'Key': 'Client', 'Value': 'MSC_LOGS_PIPELINE'},\n",
       " {'Key': 'Monitoring', 'Value': 'On'},\n",
       " {'Key': 'Name', 'Value': 'MSS-SPARK-PROD-MULTI'}]"
      ]
     },
     "execution_count": 3,
     "metadata": {},
     "output_type": "execute_result"
    }
   ],
   "source": [
    "cluster['Cluster']['Tags']"
   ]
  },
  {
   "cell_type": "code",
   "execution_count": 6,
   "metadata": {},
   "outputs": [
    {
     "data": {
      "text/plain": [
       "'�'"
      ]
     },
     "execution_count": 6,
     "metadata": {},
     "output_type": "execute_result"
    }
   ],
   "source": [
    "ALL_CODECS = [\n",
    "    'ascii', 'big5', 'big5hkscs', 'cp037', 'cp273', 'cp424', 'cp437',\n",
    "    'cp500', 'cp720', 'cp737', 'cp775', 'cp850', 'cp852', 'cp855', 'cp856', 'cp857',\n",
    "    'cp858', 'cp860', 'cp861', 'cp862', 'cp863', 'cp864', 'cp865', 'cp866', 'cp869',\n",
    "    'cp874', 'cp875', 'cp932', 'cp949', 'cp950', 'cp1006', 'cp1026', 'cp1125',\n",
    "    'cp1140', 'cp1250', 'cp1251', 'cp1252', 'cp1253', 'cp1254', 'cp1255', 'cp1256',\n",
    "    'cp1257', 'cp1258', 'euc_jp', 'euc_jis_2004', 'euc_jisx0213', 'euc_kr',\n",
    "    'gb2312', 'gbk', 'gb18030', 'hz', 'iso2022_jp', 'iso2022_jp_1', 'iso2022_jp_2',\n",
    "    'iso2022_jp_2004', 'iso2022_jp_3', 'iso2022_jp_ext', 'iso2022_kr', 'latin_1',\n",
    "    'iso8859_2', 'iso8859_3', 'iso8859_4', 'iso8859_5', 'iso8859_6', 'iso8859_7',\n",
    "    'iso8859_8', 'iso8859_9', 'iso8859_10', 'iso8859_11', 'iso8859_13',\n",
    "    'iso8859_14', 'iso8859_15', 'iso8859_16', 'johab', 'koi8_r', 'koi8_t', 'koi8_u',\n",
    "    'kz1048', 'mac_cyrillic', 'mac_greek', 'mac_iceland', 'mac_latin2', 'mac_roman',\n",
    "    'mac_turkish', 'ptcp154', 'shift_jis', 'shift_jis_2004', 'shift_jisx0213',\n",
    "    'utf_32', 'utf_32_be', 'utf_32_le', 'utf_16', 'utf_16_be', 'utf_16_le', 'utf_7',\n",
    "    'utf_8', 'utf_8_sig'\n",
    "]\n",
    "\n",
    "\n",
    "def decode_char(byte: int) -> str:\n",
    "    for codec in ALL_CODECS:\n",
    "        try:\n",
    "            c = byte.to_bytes(1, 'big').decode(codec)\n",
    "            return c\n",
    "        except Exception:\n",
    "            pass\n",
    "    else:\n",
    "        # Failed to decode character, return replacement character.\n",
    "        # https://www.fileformat.info/info/unicode/char/fffd/index.htm\n",
    "        return '\\uFFFD'\n",
    "\n",
    "decode_char(b'h')"
   ]
  },
  {
   "cell_type": "code",
   "execution_count": 7,
   "metadata": {},
   "outputs": [
    {
     "name": "stdout",
     "output_type": "stream",
     "text": [
      "104\n",
      "h\n",
      "101\n",
      "e\n",
      "108\n",
      "l\n",
      "108\n",
      "l\n",
      "111\n",
      "o\n"
     ]
    }
   ],
   "source": [
    "for b in b'hello':\n",
    "  print(b)\n",
    "  print(decode_char(b))\n"
   ]
  },
  {
   "cell_type": "code",
   "execution_count": null,
   "metadata": {},
   "outputs": [],
   "source": []
  }
 ],
 "metadata": {
  "kernelspec": {
   "display_name": ".venv",
   "language": "python",
   "name": "python3"
  },
  "language_info": {
   "codemirror_mode": {
    "name": "ipython",
    "version": 3
   },
   "file_extension": ".py",
   "mimetype": "text/x-python",
   "name": "python",
   "nbconvert_exporter": "python",
   "pygments_lexer": "ipython3",
   "version": "3.13.0"
  }
 },
 "nbformat": 4,
 "nbformat_minor": 2
}
